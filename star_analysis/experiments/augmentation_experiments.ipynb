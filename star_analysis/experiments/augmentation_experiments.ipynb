{
 "cells": [
  {
   "cell_type": "code",
   "execution_count": 1,
   "metadata": {},
   "outputs": [
    {
     "name": "stdout",
     "output_type": "stream",
     "text": [
      "/home/kubach/project_sync/star_analysis\n",
      "env: PYTORCH_ENABLE_MPS_FALLBACK=1\n"
     ]
    }
   ],
   "source": [
    "import copy\n",
    "import os\n",
    "os.chdir(\"/home/kubach/project_sync/star_analysis\")\n",
    "print(os.getcwd())\n",
    "%load_ext autoreload\n",
    "%autoreload 2\n",
    "%env PYTORCH_ENABLE_MPS_FALLBACK=1"
   ]
  },
  {
   "cell_type": "code",
   "execution_count": 2,
   "metadata": {},
   "outputs": [],
   "source": [
    "from star_analysis.model.types import ModelTypes\n",
    "from star_analysis.runner.sdss_runner import SdssRunner\n",
    "from star_analysis.data.augmentations import Augmentations\n",
    "from star_analysis.runner.sdss_runner import SdssRunConfig, SdssModelConfig\n",
    "from star_analysis.model.neural_networks.losses.types import LossType\n",
    "from star_analysis.runner.run import Run"
   ]
  },
  {
   "cell_type": "code",
   "execution_count": 3,
   "metadata": {},
   "outputs": [],
   "source": [
    "runner = SdssRunner(project_name=\"sdss-augs\")"
   ]
  },
  {
   "cell_type": "code",
   "execution_count": 4,
   "metadata": {},
   "outputs": [],
   "source": [
    "run_config0 = SdssRunConfig(\n",
    "    model_config=SdssModelConfig(\n",
    "        learning_rate=1e-4,\n",
    "        batch_size=80,\n",
    "        model_type=ModelTypes.UNET,\n",
    "        loss_type=LossType.DICE\n",
    "    ),\n",
    "    augmentation=Augmentations.NONE,\n",
    "    shuffle_train=True\n",
    ")\n",
    "\n",
    "run_config1 = copy.deepcopy(run_config0)\n",
    "run_config1.augmentation = Augmentations.FLIP\n",
    "\n",
    "run_config2 = copy.deepcopy(run_config0)\n",
    "run_config2.augmentation = Augmentations.ROTATE\n",
    "\n",
    "run_config3 = copy.deepcopy(run_config0)\n",
    "run_config3.augmentation = Augmentations.ROTATE_FLIP\n",
    "\n",
    "run_config4 = copy.deepcopy(run_config0)\n",
    "run_config4.augmentation = Augmentations.BALANCE_CLASSES\n",
    "\n",
    "configs = [run_config0, run_config1, run_config2, run_config3, run_config4]\n",
    "runs = [Run(config) for config in configs]\n",
    "\n",
    "for run in runs:\n",
    "    runner.add_run(run)"
   ]
  },
  {
   "cell_type": "code",
   "execution_count": null,
   "metadata": {},
   "outputs": [
    {
     "name": "stderr",
     "output_type": "stream",
     "text": [
      "[INFO][2023-06-28 00:55:24,308] image_downloader.py:download_exact:62: Downloading 8162 6 0080\n",
      "[INFO][2023-06-28 00:55:42,856] image_downloader.py:download_exact:62: Downloading 8162 6 0080\n",
      "INFO: GPU available: True (cuda), used: True\n",
      "[INFO][2023-06-28 00:56:01,156] rank_zero.py:_info:48: GPU available: True (cuda), used: True\n",
      "INFO: TPU available: False, using: 0 TPU cores\n",
      "[INFO][2023-06-28 00:56:01,158] rank_zero.py:_info:48: TPU available: False, using: 0 TPU cores\n",
      "INFO: IPU available: False, using: 0 IPUs\n",
      "[INFO][2023-06-28 00:56:01,158] rank_zero.py:_info:48: IPU available: False, using: 0 IPUs\n",
      "INFO: HPU available: False, using: 0 HPUs\n",
      "[INFO][2023-06-28 00:56:01,159] rank_zero.py:_info:48: HPU available: False, using: 0 HPUs\n",
      "[INFO][2023-06-28 00:56:01,362] image_downloader.py:download_exact:62: Downloading 8162 6 0080\n",
      "[INFO][2023-06-28 00:56:19,652] image_downloader.py:download_exact:62: Downloading 8162 6 0080\n",
      "INFO: GPU available: True (cuda), used: True\n",
      "[INFO][2023-06-28 00:56:38,195] rank_zero.py:_info:48: GPU available: True (cuda), used: True\n",
      "INFO: TPU available: False, using: 0 TPU cores\n",
      "[INFO][2023-06-28 00:56:38,196] rank_zero.py:_info:48: TPU available: False, using: 0 TPU cores\n",
      "INFO: IPU available: False, using: 0 IPUs\n",
      "[INFO][2023-06-28 00:56:38,197] rank_zero.py:_info:48: IPU available: False, using: 0 IPUs\n",
      "INFO: HPU available: False, using: 0 HPUs\n",
      "[INFO][2023-06-28 00:56:38,197] rank_zero.py:_info:48: HPU available: False, using: 0 HPUs\n",
      "[INFO][2023-06-28 00:56:38,397] image_downloader.py:download_exact:62: Downloading 8162 6 0080\n",
      "[INFO][2023-06-28 00:56:56,376] image_downloader.py:download_exact:62: Downloading 8162 6 0080\n",
      "INFO: GPU available: True (cuda), used: True\n",
      "[INFO][2023-06-28 00:57:14,403] rank_zero.py:_info:48: GPU available: True (cuda), used: True\n",
      "INFO: TPU available: False, using: 0 TPU cores\n",
      "[INFO][2023-06-28 00:57:14,404] rank_zero.py:_info:48: TPU available: False, using: 0 TPU cores\n",
      "INFO: IPU available: False, using: 0 IPUs\n",
      "[INFO][2023-06-28 00:57:14,405] rank_zero.py:_info:48: IPU available: False, using: 0 IPUs\n",
      "INFO: HPU available: False, using: 0 HPUs\n",
      "[INFO][2023-06-28 00:57:14,405] rank_zero.py:_info:48: HPU available: False, using: 0 HPUs\n",
      "[INFO][2023-06-28 00:57:14,609] image_downloader.py:download_exact:62: Downloading 8162 6 0080\n",
      "[INFO][2023-06-28 00:57:32,932] image_downloader.py:download_exact:62: Downloading 8162 6 0080\n",
      "INFO: GPU available: True (cuda), used: True\n",
      "[INFO][2023-06-28 00:57:51,384] rank_zero.py:_info:48: GPU available: True (cuda), used: True\n",
      "INFO: TPU available: False, using: 0 TPU cores\n",
      "[INFO][2023-06-28 00:57:51,385] rank_zero.py:_info:48: TPU available: False, using: 0 TPU cores\n",
      "INFO: IPU available: False, using: 0 IPUs\n",
      "[INFO][2023-06-28 00:57:51,386] rank_zero.py:_info:48: IPU available: False, using: 0 IPUs\n",
      "INFO: HPU available: False, using: 0 HPUs\n",
      "[INFO][2023-06-28 00:57:51,386] rank_zero.py:_info:48: HPU available: False, using: 0 HPUs\n",
      "[INFO][2023-06-28 00:57:51,591] image_downloader.py:download_exact:62: Downloading 8162 6 0080\n",
      "[INFO][2023-06-28 00:58:09,829] image_downloader.py:download_exact:62: Downloading 8162 6 0080\n",
      "INFO: GPU available: True (cuda), used: True\n",
      "[INFO][2023-06-28 00:58:26,780] rank_zero.py:_info:48: GPU available: True (cuda), used: True\n",
      "INFO: TPU available: False, using: 0 TPU cores\n",
      "[INFO][2023-06-28 00:58:26,781] rank_zero.py:_info:48: TPU available: False, using: 0 TPU cores\n",
      "INFO: IPU available: False, using: 0 IPUs\n",
      "[INFO][2023-06-28 00:58:26,782] rank_zero.py:_info:48: IPU available: False, using: 0 IPUs\n",
      "INFO: HPU available: False, using: 0 HPUs\n",
      "[INFO][2023-06-28 00:58:26,782] rank_zero.py:_info:48: HPU available: False, using: 0 HPUs\n",
      "[INFO][2023-06-28 00:58:26,892] image_downloader.py:download:46: Downloading 8162\n"
     ]
    },
    {
     "name": "stdout",
     "output_type": "stream",
     "text": [
      "Run already built. Reusing existing build.\n"
     ]
    },
    {
     "name": "stderr",
     "output_type": "stream",
     "text": [
      "WARNING: Missing logger folder: /home/kubach/project_sync/star_analysis/logs/sdss-project\n",
      "[WARNING][2023-06-28 00:58:46,497] tensorboard.py:_get_next_version:239: Missing logger folder: /home/kubach/project_sync/star_analysis/logs/sdss-project\n"
     ]
    },
    {
     "name": "stdout",
     "output_type": "stream",
     "text": [
      "Found 947 data/label pairs\n",
      "Found 1 data/label pairs\n"
     ]
    },
    {
     "name": "stderr",
     "output_type": "stream",
     "text": [
      "INFO: LOCAL_RANK: 0 - CUDA_VISIBLE_DEVICES: [0]\n",
      "[INFO][2023-06-28 00:58:47,320] cuda.py:set_nvidia_flags:58: LOCAL_RANK: 0 - CUDA_VISIBLE_DEVICES: [0]\n",
      "INFO: \n",
      "  | Name         | Type     | Params\n",
      "------------------------------------------\n",
      "0 | loss_fn      | DiceLoss | 0     \n",
      "1 | architecture | Unet     | 14.3 M\n",
      "------------------------------------------\n",
      "14.3 M    Trainable params\n",
      "0         Non-trainable params\n",
      "14.3 M    Total params\n",
      "57.339    Total estimated model params size (MB)\n",
      "[INFO][2023-06-28 00:58:47,324] model_summary.py:summarize:82: \n",
      "  | Name         | Type     | Params\n",
      "------------------------------------------\n",
      "0 | loss_fn      | DiceLoss | 0     \n",
      "1 | architecture | Unet     | 14.3 M\n",
      "------------------------------------------\n",
      "14.3 M    Trainable params\n",
      "0         Non-trainable params\n",
      "14.3 M    Total params\n",
      "57.339    Total estimated model params size (MB)\n"
     ]
    },
    {
     "data": {
      "application/vnd.jupyter.widget-view+json": {
       "model_id": "",
       "version_major": 2,
       "version_minor": 0
      },
      "text/plain": [
       "Sanity Checking: 0it [00:00, ?it/s]"
      ]
     },
     "metadata": {},
     "output_type": "display_data"
    },
    {
     "data": {
      "application/vnd.jupyter.widget-view+json": {
       "model_id": "f6b3f41414564d68b1584b528f35f0eb",
       "version_major": 2,
       "version_minor": 0
      },
      "text/plain": [
       "Training: 0it [00:00, ?it/s]"
      ]
     },
     "metadata": {},
     "output_type": "display_data"
    },
    {
     "data": {
      "application/vnd.jupyter.widget-view+json": {
       "model_id": "",
       "version_major": 2,
       "version_minor": 0
      },
      "text/plain": [
       "Validation: 0it [00:00, ?it/s]"
      ]
     },
     "metadata": {},
     "output_type": "display_data"
    },
    {
     "data": {
      "application/vnd.jupyter.widget-view+json": {
       "model_id": "",
       "version_major": 2,
       "version_minor": 0
      },
      "text/plain": [
       "Validation: 0it [00:00, ?it/s]"
      ]
     },
     "metadata": {},
     "output_type": "display_data"
    },
    {
     "data": {
      "application/vnd.jupyter.widget-view+json": {
       "model_id": "",
       "version_major": 2,
       "version_minor": 0
      },
      "text/plain": [
       "Validation: 0it [00:00, ?it/s]"
      ]
     },
     "metadata": {},
     "output_type": "display_data"
    },
    {
     "data": {
      "application/vnd.jupyter.widget-view+json": {
       "model_id": "",
       "version_major": 2,
       "version_minor": 0
      },
      "text/plain": [
       "Validation: 0it [00:00, ?it/s]"
      ]
     },
     "metadata": {},
     "output_type": "display_data"
    },
    {
     "data": {
      "application/vnd.jupyter.widget-view+json": {
       "model_id": "",
       "version_major": 2,
       "version_minor": 0
      },
      "text/plain": [
       "Validation: 0it [00:00, ?it/s]"
      ]
     },
     "metadata": {},
     "output_type": "display_data"
    },
    {
     "data": {
      "application/vnd.jupyter.widget-view+json": {
       "model_id": "",
       "version_major": 2,
       "version_minor": 0
      },
      "text/plain": [
       "Validation: 0it [00:00, ?it/s]"
      ]
     },
     "metadata": {},
     "output_type": "display_data"
    },
    {
     "data": {
      "application/vnd.jupyter.widget-view+json": {
       "model_id": "",
       "version_major": 2,
       "version_minor": 0
      },
      "text/plain": [
       "Validation: 0it [00:00, ?it/s]"
      ]
     },
     "metadata": {},
     "output_type": "display_data"
    },
    {
     "data": {
      "application/vnd.jupyter.widget-view+json": {
       "model_id": "",
       "version_major": 2,
       "version_minor": 0
      },
      "text/plain": [
       "Validation: 0it [00:00, ?it/s]"
      ]
     },
     "metadata": {},
     "output_type": "display_data"
    },
    {
     "data": {
      "application/vnd.jupyter.widget-view+json": {
       "model_id": "",
       "version_major": 2,
       "version_minor": 0
      },
      "text/plain": [
       "Validation: 0it [00:00, ?it/s]"
      ]
     },
     "metadata": {},
     "output_type": "display_data"
    },
    {
     "data": {
      "application/vnd.jupyter.widget-view+json": {
       "model_id": "",
       "version_major": 2,
       "version_minor": 0
      },
      "text/plain": [
       "Validation: 0it [00:00, ?it/s]"
      ]
     },
     "metadata": {},
     "output_type": "display_data"
    },
    {
     "name": "stderr",
     "output_type": "stream",
     "text": [
      "INFO: `Trainer.fit` stopped: `max_epochs=10` reached.\n",
      "[INFO][2023-06-28 01:29:50,161] rank_zero.py:_info:48: `Trainer.fit` stopped: `max_epochs=10` reached.\n",
      "INFO: LOCAL_RANK: 0 - CUDA_VISIBLE_DEVICES: [0]\n",
      "[INFO][2023-06-28 01:29:50,769] cuda.py:set_nvidia_flags:58: LOCAL_RANK: 0 - CUDA_VISIBLE_DEVICES: [0]\n"
     ]
    },
    {
     "name": "stdout",
     "output_type": "stream",
     "text": [
      "Run already built. Reusing existing build.\n",
      "Found 1894 data/label pairs\n",
      "Found 2 data/label pairs\n"
     ]
    },
    {
     "data": {
      "application/vnd.jupyter.widget-view+json": {
       "model_id": "379fdcf552f4431395fe1b7e617cf1e8",
       "version_major": 2,
       "version_minor": 0
      },
      "text/plain": [
       "Testing: 0it [00:00, ?it/s]"
      ]
     },
     "metadata": {},
     "output_type": "display_data"
    },
    {
     "data": {
      "text/html": [
       "<pre style=\"white-space:pre;overflow-x:auto;line-height:normal;font-family:Menlo,'DejaVu Sans Mono',consolas,'Courier New',monospace\">┏━━━━━━━━━━━━━━━━━━━━━━━━━━━┳━━━━━━━━━━━━━━━━━━━━━━━━━━━┓\n",
       "┃<span style=\"font-weight: bold\">        Test metric        </span>┃<span style=\"font-weight: bold\">       DataLoader 0        </span>┃\n",
       "┡━━━━━━━━━━━━━━━━━━━━━━━━━━━╇━━━━━━━━━━━━━━━━━━━━━━━━━━━┩\n",
       "│<span style=\"color: #008080; text-decoration-color: #008080\">         0/test_f1         </span>│<span style=\"color: #800080; text-decoration-color: #800080\">     0.470607191324234     </span>│\n",
       "│<span style=\"color: #008080; text-decoration-color: #008080\">    0/test_f1_galaxies     </span>│<span style=\"color: #800080; text-decoration-color: #800080\">            nan            </span>│\n",
       "│<span style=\"color: #008080; text-decoration-color: #008080\">      0/test_f1_stars      </span>│<span style=\"color: #800080; text-decoration-color: #800080\">    0.5437577962875366     </span>│\n",
       "│<span style=\"color: #008080; text-decoration-color: #008080\">         0/test_fn         </span>│<span style=\"color: #800080; text-decoration-color: #800080\">    13.074999809265137     </span>│\n",
       "│<span style=\"color: #008080; text-decoration-color: #008080\">         0/test_fp         </span>│<span style=\"color: #800080; text-decoration-color: #800080\">            4.0            </span>│\n",
       "│<span style=\"color: #008080; text-decoration-color: #008080\">        0/test_loss        </span>│<span style=\"color: #800080; text-decoration-color: #800080\">    0.6473821401596069     </span>│\n",
       "│<span style=\"color: #008080; text-decoration-color: #008080\">         0/test_tn         </span>│<span style=\"color: #800080; text-decoration-color: #800080\">      100327.1484375       </span>│\n",
       "│<span style=\"color: #008080; text-decoration-color: #008080\">         0/test_tp         </span>│<span style=\"color: #800080; text-decoration-color: #800080\">     7.775000095367432     </span>│\n",
       "└───────────────────────────┴───────────────────────────┘\n",
       "</pre>\n"
      ],
      "text/plain": [
       "┏━━━━━━━━━━━━━━━━━━━━━━━━━━━┳━━━━━━━━━━━━━━━━━━━━━━━━━━━┓\n",
       "┃\u001B[1m \u001B[0m\u001B[1m       Test metric       \u001B[0m\u001B[1m \u001B[0m┃\u001B[1m \u001B[0m\u001B[1m      DataLoader 0       \u001B[0m\u001B[1m \u001B[0m┃\n",
       "┡━━━━━━━━━━━━━━━━━━━━━━━━━━━╇━━━━━━━━━━━━━━━━━━━━━━━━━━━┩\n",
       "│\u001B[36m \u001B[0m\u001B[36m        0/test_f1        \u001B[0m\u001B[36m \u001B[0m│\u001B[35m \u001B[0m\u001B[35m    0.470607191324234    \u001B[0m\u001B[35m \u001B[0m│\n",
       "│\u001B[36m \u001B[0m\u001B[36m   0/test_f1_galaxies    \u001B[0m\u001B[36m \u001B[0m│\u001B[35m \u001B[0m\u001B[35m           nan           \u001B[0m\u001B[35m \u001B[0m│\n",
       "│\u001B[36m \u001B[0m\u001B[36m     0/test_f1_stars     \u001B[0m\u001B[36m \u001B[0m│\u001B[35m \u001B[0m\u001B[35m   0.5437577962875366    \u001B[0m\u001B[35m \u001B[0m│\n",
       "│\u001B[36m \u001B[0m\u001B[36m        0/test_fn        \u001B[0m\u001B[36m \u001B[0m│\u001B[35m \u001B[0m\u001B[35m   13.074999809265137    \u001B[0m\u001B[35m \u001B[0m│\n",
       "│\u001B[36m \u001B[0m\u001B[36m        0/test_fp        \u001B[0m\u001B[36m \u001B[0m│\u001B[35m \u001B[0m\u001B[35m           4.0           \u001B[0m\u001B[35m \u001B[0m│\n",
       "│\u001B[36m \u001B[0m\u001B[36m       0/test_loss       \u001B[0m\u001B[36m \u001B[0m│\u001B[35m \u001B[0m\u001B[35m   0.6473821401596069    \u001B[0m\u001B[35m \u001B[0m│\n",
       "│\u001B[36m \u001B[0m\u001B[36m        0/test_tn        \u001B[0m\u001B[36m \u001B[0m│\u001B[35m \u001B[0m\u001B[35m     100327.1484375      \u001B[0m\u001B[35m \u001B[0m│\n",
       "│\u001B[36m \u001B[0m\u001B[36m        0/test_tp        \u001B[0m\u001B[36m \u001B[0m│\u001B[35m \u001B[0m\u001B[35m    7.775000095367432    \u001B[0m\u001B[35m \u001B[0m│\n",
       "└───────────────────────────┴───────────────────────────┘\n"
      ]
     },
     "metadata": {},
     "output_type": "display_data"
    },
    {
     "name": "stdout",
     "output_type": "stream",
     "text": [
      "Run already built. Reusing existing build.\n",
      "Found 947 data/label pairs\n",
      "Found 1 data/label pairs\n"
     ]
    },
    {
     "name": "stderr",
     "output_type": "stream",
     "text": [
      "INFO: LOCAL_RANK: 0 - CUDA_VISIBLE_DEVICES: [0]\n",
      "[INFO][2023-06-28 01:29:53,241] cuda.py:set_nvidia_flags:58: LOCAL_RANK: 0 - CUDA_VISIBLE_DEVICES: [0]\n",
      "INFO: \n",
      "  | Name         | Type     | Params\n",
      "------------------------------------------\n",
      "0 | loss_fn      | DiceLoss | 0     \n",
      "1 | architecture | Unet     | 14.3 M\n",
      "------------------------------------------\n",
      "14.3 M    Trainable params\n",
      "0         Non-trainable params\n",
      "14.3 M    Total params\n",
      "57.339    Total estimated model params size (MB)\n",
      "[INFO][2023-06-28 01:29:53,254] model_summary.py:summarize:82: \n",
      "  | Name         | Type     | Params\n",
      "------------------------------------------\n",
      "0 | loss_fn      | DiceLoss | 0     \n",
      "1 | architecture | Unet     | 14.3 M\n",
      "------------------------------------------\n",
      "14.3 M    Trainable params\n",
      "0         Non-trainable params\n",
      "14.3 M    Total params\n",
      "57.339    Total estimated model params size (MB)\n"
     ]
    },
    {
     "data": {
      "application/vnd.jupyter.widget-view+json": {
       "model_id": "",
       "version_major": 2,
       "version_minor": 0
      },
      "text/plain": [
       "Sanity Checking: 0it [00:00, ?it/s]"
      ]
     },
     "metadata": {},
     "output_type": "display_data"
    },
    {
     "data": {
      "application/vnd.jupyter.widget-view+json": {
       "model_id": "9a315914abfb4bf4830a57c4f55179a1",
       "version_major": 2,
       "version_minor": 0
      },
      "text/plain": [
       "Training: 0it [00:00, ?it/s]"
      ]
     },
     "metadata": {},
     "output_type": "display_data"
    },
    {
     "data": {
      "application/vnd.jupyter.widget-view+json": {
       "model_id": "95aaa42055bf4244bcf64bb3d0eacb43",
       "version_major": 2,
       "version_minor": 0
      },
      "text/plain": [
       "Validation: 0it [00:00, ?it/s]"
      ]
     },
     "metadata": {},
     "output_type": "display_data"
    },
    {
     "name": "stdout",
     "output_type": "stream",
     "text": [
      "Run already built. Reusing existing build.\n",
      "Found 1894 data/label pairs\n",
      "Found 2 data/label pairs\n"
     ]
    },
    {
     "name": "stderr",
     "output_type": "stream",
     "text": [
      "INFO: LOCAL_RANK: 0 - CUDA_VISIBLE_DEVICES: [0]\n",
      "[INFO][2023-06-28 01:32:45,923] cuda.py:set_nvidia_flags:58: LOCAL_RANK: 0 - CUDA_VISIBLE_DEVICES: [0]\n",
      "Exception in thread Thread-39 (_pin_memory_loop):\n",
      "Traceback (most recent call last):\n",
      "  File \"/usr/lib/python3.10/threading.py\", line 1016, in _bootstrap_inner\n",
      "    self.run()\n",
      "  File \"/usr/lib/python3.10/threading.py\", line 953, in run\n",
      "    self._target(*self._args, **self._kwargs)\n",
      "  File \"/home/kubach/.virtualenvs/star_analysis/lib/python3.10/site-packages/torch/utils/data/_utils/pin_memory.py\", line 51, in _pin_memory_loop\n",
      "    do_one_step()\n",
      "  File \"/home/kubach/.virtualenvs/star_analysis/lib/python3.10/site-packages/torch/utils/data/_utils/pin_memory.py\", line 28, in do_one_step\n",
      "    r = in_queue.get(timeout=MP_STATUS_CHECK_INTERVAL)\n",
      "  File \"/usr/lib/python3.10/multiprocessing/queues.py\", line 122, in get\n",
      "    return _ForkingPickler.loads(res)\n",
      "  File \"/home/kubach/.virtualenvs/star_analysis/lib/python3.10/site-packages/torch/multiprocessing/reductions.py\", line 307, in rebuild_storage_fd\n",
      "    fd = df.detach()\n",
      "  File \"/usr/lib/python3.10/multiprocessing/resource_sharer.py\", line 57, in detach\n",
      "    with _resource_sharer.get_connection(self._id) as conn:\n",
      "  File \"/usr/lib/python3.10/multiprocessing/resource_sharer.py\", line 86, in get_connection\n",
      "    c = Client(address, authkey=process.current_process().authkey)\n",
      "  File \"/usr/lib/python3.10/multiprocessing/connection.py\", line 502, in Client\n",
      "    c = SocketClient(address)\n",
      "  File \"/usr/lib/python3.10/multiprocessing/connection.py\", line 630, in SocketClient\n",
      "    s.connect(address)\n",
      "FileNotFoundError: [Errno 2] No such file or directory\n"
     ]
    },
    {
     "data": {
      "application/vnd.jupyter.widget-view+json": {
       "model_id": "c19b6850790e47b594880bf17c958b72",
       "version_major": 2,
       "version_minor": 0
      },
      "text/plain": [
       "Testing: 0it [00:00, ?it/s]"
      ]
     },
     "metadata": {},
     "output_type": "display_data"
    },
    {
     "data": {
      "text/html": [
       "<pre style=\"white-space:pre;overflow-x:auto;line-height:normal;font-family:Menlo,'DejaVu Sans Mono',consolas,'Courier New',monospace\">┏━━━━━━━━━━━━━━━━━━━━━━━━━━━┳━━━━━━━━━━━━━━━━━━━━━━━━━━━┓\n",
       "┃<span style=\"font-weight: bold\">        Test metric        </span>┃<span style=\"font-weight: bold\">       DataLoader 0        </span>┃\n",
       "┡━━━━━━━━━━━━━━━━━━━━━━━━━━━╇━━━━━━━━━━━━━━━━━━━━━━━━━━━┩\n",
       "│<span style=\"color: #008080; text-decoration-color: #008080\">         1/test_f1         </span>│<span style=\"color: #800080; text-decoration-color: #800080\">   0.025058051571249962    </span>│\n",
       "│<span style=\"color: #008080; text-decoration-color: #008080\">    1/test_f1_galaxies     </span>│<span style=\"color: #800080; text-decoration-color: #800080\">   0.008038264699280262    </span>│\n",
       "│<span style=\"color: #008080; text-decoration-color: #008080\">      1/test_f1_stars      </span>│<span style=\"color: #800080; text-decoration-color: #800080\">    0.06007872149348259    </span>│\n",
       "│<span style=\"color: #008080; text-decoration-color: #008080\">         1/test_fn         </span>│<span style=\"color: #800080; text-decoration-color: #800080\">     5.637499809265137     </span>│\n",
       "│<span style=\"color: #008080; text-decoration-color: #008080\">         1/test_fp         </span>│<span style=\"color: #800080; text-decoration-color: #800080\">     1196.699951171875     </span>│\n",
       "│<span style=\"color: #008080; text-decoration-color: #008080\">        1/test_loss        </span>│<span style=\"color: #800080; text-decoration-color: #800080\">    0.9630476832389832     </span>│\n",
       "│<span style=\"color: #008080; text-decoration-color: #008080\">         1/test_tn         </span>│<span style=\"color: #800080; text-decoration-color: #800080\">       99134.453125        </span>│\n",
       "│<span style=\"color: #008080; text-decoration-color: #008080\">         1/test_tp         </span>│<span style=\"color: #800080; text-decoration-color: #800080\">    15.212499618530273     </span>│\n",
       "└───────────────────────────┴───────────────────────────┘\n",
       "</pre>\n"
      ],
      "text/plain": [
       "┏━━━━━━━━━━━━━━━━━━━━━━━━━━━┳━━━━━━━━━━━━━━━━━━━━━━━━━━━┓\n",
       "┃\u001B[1m \u001B[0m\u001B[1m       Test metric       \u001B[0m\u001B[1m \u001B[0m┃\u001B[1m \u001B[0m\u001B[1m      DataLoader 0       \u001B[0m\u001B[1m \u001B[0m┃\n",
       "┡━━━━━━━━━━━━━━━━━━━━━━━━━━━╇━━━━━━━━━━━━━━━━━━━━━━━━━━━┩\n",
       "│\u001B[36m \u001B[0m\u001B[36m        1/test_f1        \u001B[0m\u001B[36m \u001B[0m│\u001B[35m \u001B[0m\u001B[35m  0.025058051571249962   \u001B[0m\u001B[35m \u001B[0m│\n",
       "│\u001B[36m \u001B[0m\u001B[36m   1/test_f1_galaxies    \u001B[0m\u001B[36m \u001B[0m│\u001B[35m \u001B[0m\u001B[35m  0.008038264699280262   \u001B[0m\u001B[35m \u001B[0m│\n",
       "│\u001B[36m \u001B[0m\u001B[36m     1/test_f1_stars     \u001B[0m\u001B[36m \u001B[0m│\u001B[35m \u001B[0m\u001B[35m   0.06007872149348259   \u001B[0m\u001B[35m \u001B[0m│\n",
       "│\u001B[36m \u001B[0m\u001B[36m        1/test_fn        \u001B[0m\u001B[36m \u001B[0m│\u001B[35m \u001B[0m\u001B[35m    5.637499809265137    \u001B[0m\u001B[35m \u001B[0m│\n",
       "│\u001B[36m \u001B[0m\u001B[36m        1/test_fp        \u001B[0m\u001B[36m \u001B[0m│\u001B[35m \u001B[0m\u001B[35m    1196.699951171875    \u001B[0m\u001B[35m \u001B[0m│\n",
       "│\u001B[36m \u001B[0m\u001B[36m       1/test_loss       \u001B[0m\u001B[36m \u001B[0m│\u001B[35m \u001B[0m\u001B[35m   0.9630476832389832    \u001B[0m\u001B[35m \u001B[0m│\n",
       "│\u001B[36m \u001B[0m\u001B[36m        1/test_tn        \u001B[0m\u001B[36m \u001B[0m│\u001B[35m \u001B[0m\u001B[35m      99134.453125       \u001B[0m\u001B[35m \u001B[0m│\n",
       "│\u001B[36m \u001B[0m\u001B[36m        1/test_tp        \u001B[0m\u001B[36m \u001B[0m│\u001B[35m \u001B[0m\u001B[35m   15.212499618530273    \u001B[0m\u001B[35m \u001B[0m│\n",
       "└───────────────────────────┴───────────────────────────┘\n"
      ]
     },
     "metadata": {},
     "output_type": "display_data"
    },
    {
     "name": "stdout",
     "output_type": "stream",
     "text": [
      "Run already built. Reusing existing build.\n",
      "Found 947 data/label pairs\n",
      "Found 1 data/label pairs\n"
     ]
    },
    {
     "name": "stderr",
     "output_type": "stream",
     "text": [
      "INFO: LOCAL_RANK: 0 - CUDA_VISIBLE_DEVICES: [0]\n",
      "[INFO][2023-06-28 01:32:48,934] cuda.py:set_nvidia_flags:58: LOCAL_RANK: 0 - CUDA_VISIBLE_DEVICES: [0]\n",
      "INFO: \n",
      "  | Name         | Type     | Params\n",
      "------------------------------------------\n",
      "0 | loss_fn      | DiceLoss | 0     \n",
      "1 | architecture | Unet     | 14.3 M\n",
      "------------------------------------------\n",
      "14.3 M    Trainable params\n",
      "0         Non-trainable params\n",
      "14.3 M    Total params\n",
      "57.339    Total estimated model params size (MB)\n",
      "[INFO][2023-06-28 01:32:48,947] model_summary.py:summarize:82: \n",
      "  | Name         | Type     | Params\n",
      "------------------------------------------\n",
      "0 | loss_fn      | DiceLoss | 0     \n",
      "1 | architecture | Unet     | 14.3 M\n",
      "------------------------------------------\n",
      "14.3 M    Trainable params\n",
      "0         Non-trainable params\n",
      "14.3 M    Total params\n",
      "57.339    Total estimated model params size (MB)\n"
     ]
    },
    {
     "data": {
      "application/vnd.jupyter.widget-view+json": {
       "model_id": "3ce938f48b17437ba8a89d2f7cc44c3c",
       "version_major": 2,
       "version_minor": 0
      },
      "text/plain": [
       "Sanity Checking: 0it [00:00, ?it/s]"
      ]
     },
     "metadata": {},
     "output_type": "display_data"
    }
   ],
   "source": [
    "from star_analysis.runner.runner import TuningModes\n",
    "from star_analysis.runner.run import TrainerConfig\n",
    "\n",
    "results = runner.tune(\n",
    "    mode=TuningModes.ITERATIVE,\n",
    "    runs=runs,\n",
    "    trainer_config=TrainerConfig(\n",
    "        logger=runner.logger,\n",
    "        max_epochs=10,\n",
    "    )\n",
    ")\n",
    "run_results = zip(runs, results)"
   ]
  },
  {
   "cell_type": "code",
   "execution_count": null,
   "metadata": {},
   "outputs": [],
   "source": [
    "results"
   ]
  },
  {
   "cell_type": "code",
   "execution_count": null,
   "metadata": {},
   "outputs": [],
   "source": [
    "best_run, result_best = max(run_results, key=lambda x: x[1]['test_f1'])\n",
    "print(f\"Best run, {best_run.name}, achieved {result_best['test_f1']} test_f1\")\n",
    "\n",
    "for i, (run, result) in enumerate(run_results):\n",
    "    print(f\"Run i, {run.name}, achieved {result['test_f1']} test_f1\")\n",
    "\n",
    "runner.save_model(best_run.model)"
   ]
  },
  {
   "cell_type": "code",
   "execution_count": null,
   "metadata": {},
   "outputs": [],
   "source": []
  }
 ],
 "metadata": {
  "kernelspec": {
   "display_name": "star_analysis",
   "language": "python",
   "name": "star_analysis"
  },
  "language_info": {
   "codemirror_mode": {
    "name": "ipython",
    "version": 3
   },
   "file_extension": ".py",
   "mimetype": "text/x-python",
   "name": "python",
   "nbconvert_exporter": "python",
   "pygments_lexer": "ipython3",
   "version": "3.10.6"
  }
 },
 "nbformat": 4,
 "nbformat_minor": 1
}
