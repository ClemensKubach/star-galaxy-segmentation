{
 "cells": [
  {
   "cell_type": "code",
   "execution_count": 1,
   "metadata": {},
   "outputs": [
    {
     "name": "stderr",
     "output_type": "stream",
     "text": [
      "[INFO][2023-06-10 11:55:11,823] image_downloader.py:download_exact:49: Downloading 8162 6 0080\n",
      "[INFO][2023-06-10 11:55:38,925] image_downloader.py:download:34: Downloading 1000\n"
     ]
    }
   ],
   "source": [
    "from star_analysis.service.statistics_service import StatisticsService\n",
    "\n",
    "\n",
    "service = StatisticsService()"
   ]
  },
  {
   "cell_type": "code",
   "execution_count": 2,
   "metadata": {},
   "outputs": [
    {
     "data": {
      "application/vnd.jupyter.widget-view+json": {
       "model_id": "a9c63afa4de149f3b69f5e5e6133f753",
       "version_major": 2,
       "version_minor": 0
      },
      "text/plain": [
       "  0%|          | 0/1050 [00:00<?, ?it/s]"
      ]
     },
     "metadata": {},
     "output_type": "display_data"
    },
    {
     "data": {
      "text/plain": [
       "(array([0.06806371, 0.20728613, 0.464     , 0.01954113, 0.393049  ],\n",
       "       dtype=float32),\n",
       " array([1.3366362 , 2.3025422 , 1.7791781 , 0.80536276, 6.722137  ],\n",
       "       dtype=float32))"
      ]
     },
     "execution_count": 2,
     "metadata": {},
     "output_type": "execute_result"
    }
   ],
   "source": [
    "service.get_channel_mean_variance(calculate=True)"
   ]
  },
  {
   "cell_type": "code",
   "execution_count": null,
   "metadata": {},
   "outputs": [],
   "source": []
  }
 ],
 "metadata": {
  "kernelspec": {
   "display_name": "Python 3 (ipykernel)",
   "language": "python",
   "name": "python3"
  },
  "language_info": {
   "codemirror_mode": {
    "name": "ipython",
    "version": 3
   },
   "file_extension": ".py",
   "mimetype": "text/x-python",
   "name": "python",
   "nbconvert_exporter": "python",
   "pygments_lexer": "ipython3",
   "version": "3.9.15"
  }
 },
 "nbformat": 4,
 "nbformat_minor": 4
}
