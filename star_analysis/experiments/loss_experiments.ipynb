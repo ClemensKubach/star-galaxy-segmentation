{
 "cells": [
  {
   "cell_type": "code",
   "execution_count": null,
   "outputs": [],
   "source": [
    "import copy\n",
    "%load_ext autoreload\n",
    "%autoreload 2\n",
    "%env PYTORCH_ENABLE_MPS_FALLBACK=1"
   ],
   "metadata": {
    "collapsed": false
   }
  },
  {
   "cell_type": "code",
   "execution_count": null,
   "metadata": {
    "collapsed": true
   },
   "outputs": [],
   "source": [
    "from star_analysis.model.types import ModelTypes\n",
    "from star_analysis.runner.sdss_runner import SdssRunner\n",
    "from star_analysis.data.augmentations import Augmentations\n",
    "from star_analysis.runner.sdss_runner import SdssRunConfig, SdssModelConfig\n",
    "from star_analysis.model.neural_networks.losses.types import LossType\n",
    "from star_analysis.runner.run import Run"
   ]
  },
  {
   "cell_type": "code",
   "execution_count": null,
   "outputs": [],
   "source": [
    "runner = SdssRunner()"
   ],
   "metadata": {
    "collapsed": false
   }
  },
  {
   "cell_type": "code",
   "execution_count": null,
   "outputs": [],
   "source": [
    "run_config0 = SdssRunConfig(\n",
    "    model_config=SdssModelConfig(\n",
    "        learning_rate=1e-4,\n",
    "        batch_size=32,\n",
    "        model_type=ModelTypes.UNET,\n",
    "        loss_type=LossType.DA_MSE\n",
    "    ),\n",
    "    augmentation=Augmentations.NONE,\n",
    "    shuffle_train=True\n",
    ")\n",
    "\n",
    "run_config1 = copy.deepcopy(run_config0)\n",
    "run_config1.model_config.loss_type = LossType.DICE\n",
    "\n",
    "run_config2 = copy.deepcopy(run_config0)\n",
    "run_config2.model_config.loss_type = LossType.DA_DICE\n",
    "\n",
    "run_config3 = copy.deepcopy(run_config0)\n",
    "run_config3.model_config.loss_type = LossType.FOCAL\n",
    "\n",
    "run_config4 = copy.deepcopy(run_config0)\n",
    "run_config4.model_config.loss_type = LossType.DA_FOCAL\n",
    "\n",
    "configs = [run_config0, run_config1, run_config2, run_config3, run_config4]\n",
    "runs = [Run(config) for config in configs]"
   ],
   "metadata": {
    "collapsed": false
   }
  },
  {
   "cell_type": "code",
   "execution_count": null,
   "outputs": [],
   "source": [
    "for run in runs:\n",
    "    runner.add_run(run)"
   ],
   "metadata": {
    "collapsed": false
   }
  },
  {
   "cell_type": "code",
   "execution_count": null,
   "outputs": [],
   "source": [
    "from star_analysis.runner.run import TrainerConfig\n",
    "\n",
    "results = runner.tune(\n",
    "    runs=runs,\n",
    "    trainer_config=TrainerConfig(\n",
    "        logger=None,\n",
    "        max_epochs=10,\n",
    "    )\n",
    ")\n",
    "run_results = zip(runs, results)"
   ],
   "metadata": {
    "collapsed": false
   }
  },
  {
   "cell_type": "code",
   "execution_count": null,
   "outputs": [],
   "source": [
    "best_run, result_best = max(run_results, key=lambda x: x[1]['test_f1'])\n",
    "print(f\"Best run, {best_run[0].name}, achieved {best_run[1]['test_f1']} test_f1\")\n",
    "\n",
    "for i, (run, result) in enumerate(run_results):\n",
    "    print(f\"Run i, {run.name}, achieved {result['test_f1']} test_f1\")\n",
    "\n",
    "runner.save_model(best_run.model)"
   ],
   "metadata": {
    "collapsed": false
   }
  }
 ],
 "metadata": {
  "kernelspec": {
   "display_name": "Python 3",
   "language": "python",
   "name": "python3"
  },
  "language_info": {
   "codemirror_mode": {
    "name": "ipython",
    "version": 2
   },
   "file_extension": ".py",
   "mimetype": "text/x-python",
   "name": "python",
   "nbconvert_exporter": "python",
   "pygments_lexer": "ipython2",
   "version": "2.7.6"
  }
 },
 "nbformat": 4,
 "nbformat_minor": 0
}
