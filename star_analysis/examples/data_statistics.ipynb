{
 "cells": [
  {
   "cell_type": "code",
   "execution_count": 1,
   "metadata": {},
   "outputs": [
    {
     "name": "stderr",
     "output_type": "stream",
     "text": [
      "[INFO][2023-06-11 20:56:18,762] image_downloader.py:download_exact:49: Downloading 8162 6 0080\n",
      "[INFO][2023-06-11 20:56:39,701] image_downloader.py:download:34: Downloading 1000\n"
     ]
    }
   ],
   "source": [
    "from star_analysis.service.statistics_service import StatisticsService\n",
    "\n",
    "\n",
    "service = StatisticsService()"
   ]
  },
  {
   "cell_type": "code",
   "execution_count": 2,
   "metadata": {},
   "outputs": [
    {
     "data": {
      "application/vnd.jupyter.widget-view+json": {
       "model_id": "a9c63afa4de149f3b69f5e5e6133f753",
       "version_major": 2,
       "version_minor": 0
      },
      "text/plain": [
       "  0%|          | 0/1050 [00:00<?, ?it/s]"
      ]
     },
     "metadata": {},
     "output_type": "display_data"
    },
    {
     "data": {
      "text/plain": [
       "(array([0.06806371, 0.20728613, 0.464     , 0.01954113, 0.393049  ],\n",
       "       dtype=float32),\n",
       " array([1.3366362 , 2.3025422 , 1.7791781 , 0.80536276, 6.722137  ],\n",
       "       dtype=float32))"
      ]
     },
     "execution_count": 2,
     "metadata": {},
     "output_type": "execute_result"
    }
   ],
   "source": [
    "service.get_channel_mean_variance(calculate=True)"
   ]
  },
  {
   "cell_type": "code",
   "execution_count": 2,
   "metadata": {},
   "outputs": [
    {
     "data": {
      "application/vnd.jupyter.widget-view+json": {
       "model_id": "ffbf30eb9b1d42628d457f63741d4578",
       "version_major": 2,
       "version_minor": 0
      },
      "text/plain": [
       "  0%|          | 0/6 [00:00<?, ?it/s]"
      ]
     },
     "metadata": {},
     "output_type": "display_data"
    },
    {
     "data": {
      "application/vnd.jupyter.widget-view+json": {
       "model_id": "8e4f353d578b4327a0421944ab1a291a",
       "version_major": 2,
       "version_minor": 0
      },
      "text/plain": [
       "  0%|          | 0/6 [00:00<?, ?it/s]"
      ]
     },
     "metadata": {},
     "output_type": "display_data"
    },
    {
     "data": {
      "text/plain": [
       "array([ 155788., 1019846.])"
      ]
     },
     "execution_count": 2,
     "metadata": {},
     "output_type": "execute_result"
    }
   ],
   "source": [
    "service.get_number_examples_per_class(calculate=True)"
   ]
  },
  {
   "cell_type": "code",
   "execution_count": 3,
   "metadata": {},
   "outputs": [
    {
     "data": {
      "application/vnd.jupyter.widget-view+json": {
       "model_id": "b5a2da732cab492cb5d47407851f6567",
       "version_major": 2,
       "version_minor": 0
      },
      "text/plain": [
       "  0%|          | 0/1050 [00:00<?, ?it/s]"
      ]
     },
     "metadata": {},
     "output_type": "display_data"
    },
    {
     "data": {
      "text/plain": [
       "array([[38.39584431,  2.17935757,  0.98275128,  0.98868845,  2.09980341],\n",
       "       [ 2.17935757, 81.56378697,  2.21487135,  0.94742019,  0.95599492],\n",
       "       [ 0.98275128,  2.21487135, 29.7828834 ,  2.01658154,  0.88864766],\n",
       "       [ 0.98868845,  0.94742019,  2.01658154, 52.01123953,  2.00083838],\n",
       "       [ 2.09980341,  0.95599492,  0.88864766,  2.00083838, 26.48450165]])"
      ]
     },
     "execution_count": 3,
     "metadata": {},
     "output_type": "execute_result"
    }
   ],
   "source": [
    "service.get_color_covariance(calculate=True)"
   ]
  },
  {
   "cell_type": "code",
   "execution_count": 6,
   "metadata": {},
   "outputs": [],
   "source": [
    "import numpy as np\n",
    "a = np.array([[38.39584431,  2.17935757,  0.98275128,  0.98868845,  2.09980341],\n",
    "       [ 2.17935757, 81.56378697,  2.21487135,  0.94742019,  0.95599492],\n",
    "       [ 0.98275128,  2.21487135, 29.7828834 ,  2.01658154,  0.88864766],\n",
    "       [ 0.98868845,  0.94742019,  2.01658154, 52.01123953,  2.00083838],\n",
    "       [ 2.09980341,  0.95599492,  0.88864766,  2.00083838, 26.48450165]])"
   ]
  },
  {
   "cell_type": "code",
   "execution_count": 11,
   "metadata": {},
   "outputs": [],
   "source": [
    "b = service.get_channel_mean_variance()[1]\n",
    "b1 = np.repeat(b[:, None], b.shape[0], axis=-1)\n",
    "b2 = np.repeat(b[None, :], b.shape[0], axis=0)"
   ]
  },
  {
   "cell_type": "code",
   "execution_count": 21,
   "metadata": {},
   "outputs": [
    {
     "data": {
      "text/plain": [
       "array([[2.1491e+01, 7.0800e-01, 4.1300e-01, 9.1800e-01, 2.3400e-01],\n",
       "       [7.0800e-01, 1.5384e+01, 5.4100e-01, 5.1100e-01, 6.2000e-02],\n",
       "       [4.1300e-01, 5.4100e-01, 9.4090e+00, 1.4070e+00, 7.4000e-02],\n",
       "       [9.1800e-01, 5.1100e-01, 1.4070e+00, 8.0189e+01, 3.7000e-01],\n",
       "       [2.3400e-01, 6.2000e-02, 7.4000e-02, 3.7000e-01, 5.8600e-01]])"
      ]
     },
     "execution_count": 21,
     "metadata": {},
     "output_type": "execute_result"
    }
   ],
   "source": [
    "np.round(a / (b1*b2), 3)"
   ]
  },
  {
   "cell_type": "code",
   "execution_count": null,
   "metadata": {},
   "outputs": [],
   "source": []
  }
 ],
 "metadata": {
  "kernelspec": {
   "display_name": "Python 3 (ipykernel)",
   "language": "python",
   "name": "python3"
  },
  "language_info": {
   "codemirror_mode": {
    "name": "ipython",
    "version": 3
   },
   "file_extension": ".py",
   "mimetype": "text/x-python",
   "name": "python",
   "nbconvert_exporter": "python",
   "pygments_lexer": "ipython3",
   "version": "3.9.15"
  }
 },
 "nbformat": 4,
 "nbformat_minor": 4
}
