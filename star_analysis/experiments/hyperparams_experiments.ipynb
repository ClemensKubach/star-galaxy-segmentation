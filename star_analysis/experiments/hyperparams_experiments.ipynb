{
 "cells": [
  {
   "cell_type": "code",
   "execution_count": null,
   "outputs": [],
   "source": [
    "%load_ext autoreload\n",
    "%autoreload 2\n",
    "%env PYTORCH_ENABLE_MPS_FALLBACK=1"
   ],
   "metadata": {
    "collapsed": false
   }
  },
  {
   "cell_type": "code",
   "execution_count": null,
   "metadata": {
    "collapsed": true
   },
   "outputs": [],
   "source": [
    "from star_analysis.model.types import ModelTypes\n",
    "from star_analysis.runner.sdss_runner import SdssRunner\n",
    "from star_analysis.data.augmentations import Augmentations\n",
    "from star_analysis.runner.sdss_runner import SdssRunConfig, SdssModelConfig\n",
    "from star_analysis.model.neural_networks.losses.types import LossType\n",
    "from star_analysis.runner.run import Run"
   ]
  },
  {
   "cell_type": "code",
   "execution_count": null,
   "outputs": [],
   "source": [
    "runner = SdssRunner()"
   ],
   "metadata": {
    "collapsed": false
   }
  },
  {
   "cell_type": "code",
   "execution_count": null,
   "outputs": [],
   "source": [
    "from functools import partial\n",
    "import copy\n",
    "from star_analysis.runner.run import OptunaTuneTrainerConfig\n",
    "from optuna import Trial\n",
    "\n",
    "def objective(trial: Trial, runner: SdssRunner, default_run_config: SdssRunConfig, trainer_config: OptunaTuneTrainerConfig):\n",
    "    lr = trial.suggest_loguniform(\"learning_rate\", 1e-6, 1e-3)\n",
    "    arch = trial.suggest_categorical(\"architecture\", [ModelTypes.UNET, ModelTypes.DLV3])\n",
    "\n",
    "    run_config = copy.deepcopy(default_run_config)\n",
    "    if arch == ModelTypes.UNET:\n",
    "        run_config.model_type = ModelTypes.UNET\n",
    "    elif arch == ModelTypes.DLV3:\n",
    "        run_config.model_type = ModelTypes.DLV3\n",
    "    run_config.lr = lr\n",
    "\n",
    "    run = Run(run_config)\n",
    "    runner.add_run(run)\n",
    "    runner.train(\n",
    "        run=run,\n",
    "        trainer_config=trainer_config\n",
    "    )\n",
    "    test_result = runner.test(\n",
    "        run=run,\n",
    "        trainer_config=None\n",
    "    )\n",
    "    return test_result[0]['test_f1']"
   ],
   "metadata": {
    "collapsed": false
   }
  },
  {
   "cell_type": "code",
   "execution_count": null,
   "outputs": [],
   "source": [
    "default_run_config = SdssRunConfig(\n",
    "    model_config=SdssModelConfig(\n",
    "        learning_rate=1e-4,\n",
    "        batch_size=32,\n",
    "        model_type=ModelTypes.UNET,\n",
    "        loss_type=LossType.DICE\n",
    "    ),\n",
    "    augmentation=Augmentations.NONE,\n",
    "    shuffle_train=True\n",
    ")\n",
    "trainer_config = OptunaTuneTrainerConfig(\n",
    "    logger=runner.logger,\n",
    "    max_epochs=10,\n",
    "    timeout=60 * 60 * 2,\n",
    "    direction=\"maximize\",\n",
    "    num_jobs=2\n",
    ")\n",
    "\n",
    "tuning_objective = partial(\n",
    "    objective,\n",
    "    runner=runner,\n",
    "    default_run_config=default_run_config,\n",
    "    trainer_config=trainer_config\n",
    ")"
   ],
   "metadata": {
    "collapsed": false
   }
  },
  {
   "cell_type": "code",
   "execution_count": null,
   "outputs": [],
   "source": [
    "from star_analysis.runner.runner import TuningModes\n",
    "\n",
    "study = runner.tune(\n",
    "    mode=TuningModes.PARALLEL,\n",
    "    trainer_config=trainer_config,\n",
    "    optuna_objective=tuning_objective,\n",
    ")"
   ],
   "metadata": {
    "collapsed": false
   }
  },
  {
   "cell_type": "code",
   "execution_count": null,
   "outputs": [],
   "source": [
    "study.best_params"
   ],
   "metadata": {
    "collapsed": false
   }
  }
 ],
 "metadata": {
  "kernelspec": {
   "display_name": "Python 3",
   "language": "python",
   "name": "python3"
  },
  "language_info": {
   "codemirror_mode": {
    "name": "ipython",
    "version": 2
   },
   "file_extension": ".py",
   "mimetype": "text/x-python",
   "name": "python",
   "nbconvert_exporter": "python",
   "pygments_lexer": "ipython2",
   "version": "2.7.6"
  }
 },
 "nbformat": 4,
 "nbformat_minor": 0
}
