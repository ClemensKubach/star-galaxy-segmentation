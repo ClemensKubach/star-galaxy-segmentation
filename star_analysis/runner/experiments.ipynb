{
 "cells": [
  {
   "cell_type": "code",
   "execution_count": 1,
   "outputs": [
    {
     "name": "stdout",
     "output_type": "stream",
     "text": [
      "env: PYTORCH_ENABLE_MPS_FALLBACK=1\n"
     ]
    }
   ],
   "source": [
    "%load_ext autoreload\n",
    "%autoreload 2\n",
    "%env PYTORCH_ENABLE_MPS_FALLBACK=1"
   ],
   "metadata": {
    "collapsed": false,
    "ExecuteTime": {
     "end_time": "2023-06-20T21:08:53.154770Z",
     "start_time": "2023-06-20T21:08:53.130433Z"
    }
   }
  },
  {
   "cell_type": "code",
   "execution_count": 2,
   "metadata": {
    "collapsed": true,
    "ExecuteTime": {
     "end_time": "2023-06-20T21:08:56.093095Z",
     "start_time": "2023-06-20T21:08:53.155238Z"
    }
   },
   "outputs": [],
   "source": [
    "from star_analysis.model.types import ModelTypes\n",
    "from star_analysis.runner.sdss_runner import SdssRunner"
   ]
  },
  {
   "cell_type": "code",
   "execution_count": 3,
   "outputs": [],
   "source": [
    "runner = SdssRunner(shuffle_train=True, model_type=ModelTypes.UNET)"
   ],
   "metadata": {
    "collapsed": false,
    "ExecuteTime": {
     "end_time": "2023-06-20T21:08:56.131228Z",
     "start_time": "2023-06-20T21:08:56.093408Z"
    }
   }
  },
  {
   "cell_type": "code",
   "execution_count": 4,
   "outputs": [
    {
     "name": "stderr",
     "output_type": "stream",
     "text": [
      "[INFO][2023-06-20 23:08:56,168] image_downloader.py:download_exact:62: Downloading 8162 6 0080\n",
      "[INFO][2023-06-20 23:09:10,362] image_downloader.py:download_exact:62: Downloading 8162 6 0080\n"
     ]
    }
   ],
   "source": [
    "runner.init()"
   ],
   "metadata": {
    "collapsed": false,
    "ExecuteTime": {
     "end_time": "2023-06-20T21:09:25.720403Z",
     "start_time": "2023-06-20T21:08:56.131510Z"
    }
   }
  },
  {
   "cell_type": "code",
   "execution_count": 6,
   "outputs": [
    {
     "name": "stderr",
     "output_type": "stream",
     "text": [
      "INFO: GPU available: True (mps), used: True\n",
      "[INFO][2023-06-20 23:11:55,380] rank_zero.py:_info:48: GPU available: True (mps), used: True\n",
      "INFO: TPU available: False, using: 0 TPU cores\n",
      "[INFO][2023-06-20 23:11:55,380] rank_zero.py:_info:48: TPU available: False, using: 0 TPU cores\n",
      "INFO: IPU available: False, using: 0 IPUs\n",
      "[INFO][2023-06-20 23:11:55,381] rank_zero.py:_info:48: IPU available: False, using: 0 IPUs\n",
      "INFO: HPU available: False, using: 0 HPUs\n",
      "[INFO][2023-06-20 23:11:55,381] rank_zero.py:_info:48: HPU available: False, using: 0 HPUs\n",
      "INFO: \n",
      "  | Name    | Type             | Params\n",
      "---------------------------------------------\n",
      "0 | model   | Unet             | 14.3 M\n",
      "1 | loss_fn | DiceDistanceLoss | 0     \n",
      "---------------------------------------------\n",
      "14.3 M    Trainable params\n",
      "0         Non-trainable params\n",
      "14.3 M    Total params\n",
      "57.339    Total estimated model params size (MB)\n",
      "[INFO][2023-06-20 23:11:55,520] model_summary.py:summarize:82: \n",
      "  | Name    | Type             | Params\n",
      "---------------------------------------------\n",
      "0 | model   | Unet             | 14.3 M\n",
      "1 | loss_fn | DiceDistanceLoss | 0     \n",
      "---------------------------------------------\n",
      "14.3 M    Trainable params\n",
      "0         Non-trainable params\n",
      "14.3 M    Total params\n",
      "57.339    Total estimated model params size (MB)\n"
     ]
    },
    {
     "data": {
      "text/plain": "Sanity Checking: 0it [00:00, ?it/s]",
      "application/vnd.jupyter.widget-view+json": {
       "version_major": 2,
       "version_minor": 0,
       "model_id": "506235d9bf25415082671553044d8ada"
      }
     },
     "metadata": {},
     "output_type": "display_data"
    },
    {
     "name": "stdout",
     "output_type": "stream",
     "text": [
      "tensor(0., device='mps:0') tensor(0.2173, device='mps:0')\n",
      "tensor(0., device='mps:0') tensor(0.2249, device='mps:0')\n"
     ]
    },
    {
     "data": {
      "text/plain": "Training: 0it [00:00, ?it/s]",
      "application/vnd.jupyter.widget-view+json": {
       "version_major": 2,
       "version_minor": 0,
       "model_id": "da384efaa8fb4f238b298bf6e55e0f8d"
      }
     },
     "metadata": {},
     "output_type": "display_data"
    },
    {
     "name": "stdout",
     "output_type": "stream",
     "text": [
      "tensor(0.3643, device='mps:0', grad_fn=<MeanBackward0>) tensor(0.3030, device='mps:0', grad_fn=<MeanBackward0>)\n",
      "tensor(0.1957, device='mps:0', grad_fn=<MeanBackward0>) tensor(0.2984, device='mps:0', grad_fn=<MeanBackward0>)\n",
      "tensor(0.0702, device='mps:0', grad_fn=<MeanBackward0>) tensor(0.2953, device='mps:0', grad_fn=<MeanBackward0>)\n",
      "tensor(-0.0589, device='mps:0', grad_fn=<MeanBackward0>) tensor(0.2596, device='mps:0', grad_fn=<MeanBackward0>)\n",
      "tensor(-0.2669, device='mps:0', grad_fn=<MeanBackward0>) tensor(0.2349, device='mps:0', grad_fn=<MeanBackward0>)\n",
      "tensor(-0.5414, device='mps:0', grad_fn=<MeanBackward0>) tensor(0.2339, device='mps:0', grad_fn=<MeanBackward0>)\n",
      "tensor(0., device='mps:0', grad_fn=<MeanBackward0>) tensor(0.2046, device='mps:0', grad_fn=<MeanBackward0>)\n",
      "tensor(0., device='mps:0', grad_fn=<MeanBackward0>) tensor(0.1759, device='mps:0', grad_fn=<MeanBackward0>)\n",
      "tensor(0., device='mps:0', grad_fn=<MeanBackward0>) tensor(0.1666, device='mps:0', grad_fn=<MeanBackward0>)\n",
      "tensor(0., device='mps:0', grad_fn=<MeanBackward0>) tensor(0.1488, device='mps:0', grad_fn=<MeanBackward0>)\n"
     ]
    },
    {
     "data": {
      "text/plain": "Validation: 0it [00:00, ?it/s]",
      "application/vnd.jupyter.widget-view+json": {
       "version_major": 2,
       "version_minor": 0,
       "model_id": "be81bddae3ea4fe5b1695a48452eff49"
      }
     },
     "metadata": {},
     "output_type": "display_data"
    },
    {
     "name": "stdout",
     "output_type": "stream",
     "text": [
      "tensor(-0.5003, device='mps:0') tensor(0.5326, device='mps:0')\n",
      "tensor(-0.5003, device='mps:0') tensor(0.5319, device='mps:0')\n",
      "tensor(-0.5013, device='mps:0') tensor(0.5272, device='mps:0')\n",
      "tensor(-0.5003, device='mps:0') tensor(0.5158, device='mps:0')\n",
      "tensor(-0.5013, device='mps:0') tensor(0.5410, device='mps:0')\n",
      "tensor(-0.5011, device='mps:0') tensor(0.5314, device='mps:0')\n",
      "tensor(-0.5004, device='mps:0') tensor(0.5347, device='mps:0')\n",
      "tensor(-0.5009, device='mps:0') tensor(0.5309, device='mps:0')\n",
      "tensor(-0.5015, device='mps:0') tensor(0.5209, device='mps:0')\n",
      "tensor(-0.5001, device='mps:0') tensor(0.5357, device='mps:0')\n",
      "tensor(0., device='mps:0', grad_fn=<MeanBackward0>) tensor(0.1372, device='mps:0', grad_fn=<MeanBackward0>)\n",
      "tensor(0., device='mps:0', grad_fn=<MeanBackward0>) tensor(0.1291, device='mps:0', grad_fn=<MeanBackward0>)\n",
      "tensor(0., device='mps:0', grad_fn=<MeanBackward0>) tensor(0.1281, device='mps:0', grad_fn=<MeanBackward0>)\n",
      "tensor(0., device='mps:0', grad_fn=<MeanBackward0>) tensor(0.1208, device='mps:0', grad_fn=<MeanBackward0>)\n",
      "tensor(0., device='mps:0', grad_fn=<MeanBackward0>) tensor(0.1141, device='mps:0', grad_fn=<MeanBackward0>)\n",
      "tensor(0., device='mps:0', grad_fn=<MeanBackward0>) tensor(0.1068, device='mps:0', grad_fn=<MeanBackward0>)\n",
      "tensor(0., device='mps:0', grad_fn=<MeanBackward0>) tensor(0.1036, device='mps:0', grad_fn=<MeanBackward0>)\n",
      "tensor(0., device='mps:0', grad_fn=<MeanBackward0>) tensor(0.0978, device='mps:0', grad_fn=<MeanBackward0>)\n",
      "tensor(0., device='mps:0', grad_fn=<MeanBackward0>) tensor(0.0947, device='mps:0', grad_fn=<MeanBackward0>)\n",
      "tensor(0., device='mps:0', grad_fn=<MeanBackward0>) tensor(0.0928, device='mps:0', grad_fn=<MeanBackward0>)\n"
     ]
    },
    {
     "data": {
      "text/plain": "Validation: 0it [00:00, ?it/s]",
      "application/vnd.jupyter.widget-view+json": {
       "version_major": 2,
       "version_minor": 0,
       "model_id": "8b7aad70bce44d23a93103635ebad6fa"
      }
     },
     "metadata": {},
     "output_type": "display_data"
    },
    {
     "name": "stdout",
     "output_type": "stream",
     "text": [
      "tensor(-0.5050, device='mps:0') tensor(0.1914, device='mps:0')\n",
      "tensor(-0.5077, device='mps:0') tensor(0.1648, device='mps:0')\n",
      "tensor(-0.5078, device='mps:0') tensor(0.2153, device='mps:0')\n",
      "tensor(-0.5046, device='mps:0') tensor(0.1697, device='mps:0')\n",
      "tensor(-0.5128, device='mps:0') tensor(0.1632, device='mps:0')\n",
      "tensor(-0.5077, device='mps:0') tensor(0.2119, device='mps:0')\n",
      "tensor(-0.5054, device='mps:0') tensor(0.1806, device='mps:0')\n",
      "tensor(-0.5246, device='mps:0') tensor(0.1548, device='mps:0')\n",
      "tensor(-0.5101, device='mps:0') tensor(0.1649, device='mps:0')\n",
      "tensor(-0.5062, device='mps:0') tensor(0.1759, device='mps:0')\n",
      "tensor(0., device='mps:0', grad_fn=<MeanBackward0>) tensor(0.0887, device='mps:0', grad_fn=<MeanBackward0>)\n",
      "tensor(0., device='mps:0', grad_fn=<MeanBackward0>) tensor(0.0888, device='mps:0', grad_fn=<MeanBackward0>)\n",
      "tensor(0., device='mps:0', grad_fn=<MeanBackward0>) tensor(0.0838, device='mps:0', grad_fn=<MeanBackward0>)\n",
      "tensor(0., device='mps:0', grad_fn=<MeanBackward0>) tensor(0.0825, device='mps:0', grad_fn=<MeanBackward0>)\n",
      "tensor(0., device='mps:0', grad_fn=<MeanBackward0>) tensor(0.0850, device='mps:0', grad_fn=<MeanBackward0>)\n",
      "tensor(0., device='mps:0', grad_fn=<MeanBackward0>) tensor(0.0815, device='mps:0', grad_fn=<MeanBackward0>)\n",
      "tensor(0., device='mps:0', grad_fn=<MeanBackward0>) tensor(0.0724, device='mps:0', grad_fn=<MeanBackward0>)\n",
      "tensor(0., device='mps:0', grad_fn=<MeanBackward0>) tensor(0.0720, device='mps:0', grad_fn=<MeanBackward0>)\n",
      "tensor(0., device='mps:0', grad_fn=<MeanBackward0>) tensor(0.0719, device='mps:0', grad_fn=<MeanBackward0>)\n",
      "tensor(0., device='mps:0', grad_fn=<MeanBackward0>) tensor(0.0700, device='mps:0', grad_fn=<MeanBackward0>)\n"
     ]
    },
    {
     "data": {
      "text/plain": "Validation: 0it [00:00, ?it/s]",
      "application/vnd.jupyter.widget-view+json": {
       "version_major": 2,
       "version_minor": 0,
       "model_id": "8d380f8985aa47d39f0af15c08c6beee"
      }
     },
     "metadata": {},
     "output_type": "display_data"
    },
    {
     "name": "stdout",
     "output_type": "stream",
     "text": [
      "tensor(-0.5298, device='mps:0') tensor(0.1093, device='mps:0')\n",
      "tensor(-0.5669, device='mps:0') tensor(0.0964, device='mps:0')\n",
      "tensor(-0.5205, device='mps:0') tensor(0.1335, device='mps:0')\n",
      "tensor(-0.5278, device='mps:0') tensor(0.1031, device='mps:0')\n",
      "tensor(-0.5868, device='mps:0') tensor(0.0995, device='mps:0')\n",
      "tensor(-0.5324, device='mps:0') tensor(0.1253, device='mps:0')\n",
      "tensor(-0.5409, device='mps:0') tensor(0.1017, device='mps:0')\n",
      "tensor(-1.2922, device='mps:0') tensor(0.0777, device='mps:0')\n",
      "tensor(-0.5746, device='mps:0') tensor(0.0974, device='mps:0')\n",
      "tensor(-0.6663, device='mps:0') tensor(0.1012, device='mps:0')\n",
      "tensor(0., device='mps:0', grad_fn=<MeanBackward0>) tensor(0.0691, device='mps:0', grad_fn=<MeanBackward0>)\n",
      "tensor(0., device='mps:0', grad_fn=<MeanBackward0>) tensor(0.0638, device='mps:0', grad_fn=<MeanBackward0>)\n",
      "tensor(0., device='mps:0', grad_fn=<MeanBackward0>) tensor(0.0678, device='mps:0', grad_fn=<MeanBackward0>)\n",
      "tensor(0., device='mps:0', grad_fn=<MeanBackward0>) tensor(0.0618, device='mps:0', grad_fn=<MeanBackward0>)\n",
      "tensor(0., device='mps:0', grad_fn=<MeanBackward0>) tensor(0.0575, device='mps:0', grad_fn=<MeanBackward0>)\n",
      "tensor(0., device='mps:0', grad_fn=<MeanBackward0>) tensor(0.0568, device='mps:0', grad_fn=<MeanBackward0>)\n",
      "tensor(0., device='mps:0', grad_fn=<MeanBackward0>) tensor(0.0557, device='mps:0', grad_fn=<MeanBackward0>)\n",
      "tensor(0., device='mps:0', grad_fn=<MeanBackward0>) tensor(0.0537, device='mps:0', grad_fn=<MeanBackward0>)\n",
      "tensor(0., device='mps:0', grad_fn=<MeanBackward0>) tensor(0.0522, device='mps:0', grad_fn=<MeanBackward0>)\n",
      "tensor(0., device='mps:0', grad_fn=<MeanBackward0>) tensor(0.0512, device='mps:0', grad_fn=<MeanBackward0>)\n"
     ]
    },
    {
     "data": {
      "text/plain": "Validation: 0it [00:00, ?it/s]",
      "application/vnd.jupyter.widget-view+json": {
       "version_major": 2,
       "version_minor": 0,
       "model_id": "f854477a04544586a3caa84119fe77ff"
      }
     },
     "metadata": {},
     "output_type": "display_data"
    },
    {
     "name": "stdout",
     "output_type": "stream",
     "text": [
      "tensor(0., device='mps:0') tensor(0.0615, device='mps:0')\n",
      "tensor(0., device='mps:0') tensor(0.0590, device='mps:0')\n",
      "tensor(0., device='mps:0') tensor(0.0625, device='mps:0')\n",
      "tensor(0., device='mps:0') tensor(0.0609, device='mps:0')\n",
      "tensor(0., device='mps:0') tensor(0.0615, device='mps:0')\n",
      "tensor(0., device='mps:0') tensor(0.0576, device='mps:0')\n",
      "tensor(0., device='mps:0') tensor(0.0596, device='mps:0')\n",
      "tensor(0., device='mps:0') tensor(0.0583, device='mps:0')\n",
      "tensor(0., device='mps:0') tensor(0.0601, device='mps:0')\n",
      "tensor(0., device='mps:0') tensor(0.0562, device='mps:0')\n"
     ]
    }
   ],
   "source": [
    "runner.model = runner._setup_model()\n",
    "runner.train(limit_train_batches=10, limit_val_batches=10, max_epochs=15)"
   ],
   "metadata": {
    "collapsed": false,
    "ExecuteTime": {
     "end_time": "2023-06-20T21:13:24.440142Z",
     "start_time": "2023-06-20T21:11:55.073080Z"
    }
   }
  },
  {
   "cell_type": "code",
   "execution_count": 5,
   "outputs": [],
   "source": [],
   "metadata": {
    "collapsed": false,
    "ExecuteTime": {
     "end_time": "2023-06-20T21:10:33.213381Z",
     "start_time": "2023-06-20T21:10:33.176346Z"
    }
   }
  }
 ],
 "metadata": {
  "kernelspec": {
   "display_name": "Python 3",
   "language": "python",
   "name": "python3"
  },
  "language_info": {
   "codemirror_mode": {
    "name": "ipython",
    "version": 2
   },
   "file_extension": ".py",
   "mimetype": "text/x-python",
   "name": "python",
   "nbconvert_exporter": "python",
   "pygments_lexer": "ipython2",
   "version": "2.7.6"
  }
 },
 "nbformat": 4,
 "nbformat_minor": 0
}
