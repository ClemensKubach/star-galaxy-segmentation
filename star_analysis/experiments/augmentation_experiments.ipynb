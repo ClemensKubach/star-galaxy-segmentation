{
 "cells": [
  {
   "cell_type": "code",
   "execution_count": 1,
   "metadata": {},
   "outputs": [
    {
     "name": "stdout",
     "output_type": "stream",
     "text": [
      "/home/kubach/project_sync/star_analysis\n",
      "env: PYTORCH_ENABLE_MPS_FALLBACK=1\n"
     ]
    }
   ],
   "source": [
    "import copy\n",
    "import os\n",
    "os.chdir(\"/home/kubach/project_sync/star_analysis\")\n",
    "print(os.getcwd())\n",
    "%load_ext autoreload\n",
    "%autoreload 2\n",
    "%env PYTORCH_ENABLE_MPS_FALLBACK=1"
   ]
  },
  {
   "cell_type": "code",
   "execution_count": 2,
   "metadata": {},
   "outputs": [],
   "source": [
    "from star_analysis.model.types import ModelTypes\n",
    "from star_analysis.runner.sdss_runner import SdssRunner\n",
    "from star_analysis.data.augmentations import Augmentations\n",
    "from star_analysis.runner.sdss_runner import SdssRunConfig, SdssModelConfig\n",
    "from star_analysis.model.neural_networks.losses.types import LossType\n",
    "from star_analysis.runner.run import Run"
   ]
  },
  {
   "cell_type": "code",
   "execution_count": 3,
   "metadata": {},
   "outputs": [],
   "source": [
    "runner = SdssRunner(project_name=\"sdss-augs\")"
   ]
  },
  {
   "cell_type": "code",
   "execution_count": 4,
   "metadata": {},
   "outputs": [],
   "source": [
    "run_config0 = SdssRunConfig(\n",
    "    model_config=SdssModelConfig(\n",
    "        learning_rate=1e-4,\n",
    "        batch_size=80,\n",
    "        model_type=ModelTypes.UNET,\n",
    "        loss_type=LossType.DICE\n",
    "    ),\n",
    "    augmentation=Augmentations.NONE,\n",
    "    shuffle_train=True\n",
    ")\n",
    "\n",
    "run_config1 = copy.deepcopy(run_config0)\n",
    "run_config1.augmentation = Augmentations.FLIP\n",
    "\n",
    "run_config2 = copy.deepcopy(run_config0)\n",
    "run_config2.augmentation = Augmentations.ROTATE\n",
    "\n",
    "run_config3 = copy.deepcopy(run_config0)\n",
    "run_config3.augmentation = Augmentations.ROTATE_FLIP\n",
    "\n",
    "run_config4 = copy.deepcopy(run_config0)\n",
    "run_config4.augmentation = Augmentations.BALANCE_CLASSES\n",
    "\n",
    "configs = [run_config0, run_config1, run_config2, run_config3, run_config4]\n",
    "runs = [Run(config) for config in configs]\n",
    "\n",
    "for run in runs:\n",
    "    runner.add_run(run)"
   ]
  },
  {
   "cell_type": "code",
   "execution_count": null,
   "metadata": {},
   "outputs": [
    {
     "name": "stderr",
     "output_type": "stream",
     "text": [
      "[INFO][2023-06-28 00:55:24,308] image_downloader.py:download_exact:62: Downloading 8162 6 0080\n",
      "[INFO][2023-06-28 00:55:42,856] image_downloader.py:download_exact:62: Downloading 8162 6 0080\n",
      "INFO: GPU available: True (cuda), used: True\n",
      "[INFO][2023-06-28 00:56:01,156] rank_zero.py:_info:48: GPU available: True (cuda), used: True\n",
      "INFO: TPU available: False, using: 0 TPU cores\n",
      "[INFO][2023-06-28 00:56:01,158] rank_zero.py:_info:48: TPU available: False, using: 0 TPU cores\n",
      "INFO: IPU available: False, using: 0 IPUs\n",
      "[INFO][2023-06-28 00:56:01,158] rank_zero.py:_info:48: IPU available: False, using: 0 IPUs\n",
      "INFO: HPU available: False, using: 0 HPUs\n",
      "[INFO][2023-06-28 00:56:01,159] rank_zero.py:_info:48: HPU available: False, using: 0 HPUs\n",
      "[INFO][2023-06-28 00:56:01,362] image_downloader.py:download_exact:62: Downloading 8162 6 0080\n",
      "[INFO][2023-06-28 00:56:19,652] image_downloader.py:download_exact:62: Downloading 8162 6 0080\n",
      "INFO: GPU available: True (cuda), used: True\n",
      "[INFO][2023-06-28 00:56:38,195] rank_zero.py:_info:48: GPU available: True (cuda), used: True\n",
      "INFO: TPU available: False, using: 0 TPU cores\n",
      "[INFO][2023-06-28 00:56:38,196] rank_zero.py:_info:48: TPU available: False, using: 0 TPU cores\n",
      "INFO: IPU available: False, using: 0 IPUs\n",
      "[INFO][2023-06-28 00:56:38,197] rank_zero.py:_info:48: IPU available: False, using: 0 IPUs\n",
      "INFO: HPU available: False, using: 0 HPUs\n",
      "[INFO][2023-06-28 00:56:38,197] rank_zero.py:_info:48: HPU available: False, using: 0 HPUs\n",
      "[INFO][2023-06-28 00:56:38,397] image_downloader.py:download_exact:62: Downloading 8162 6 0080\n",
      "[INFO][2023-06-28 00:56:56,376] image_downloader.py:download_exact:62: Downloading 8162 6 0080\n",
      "INFO: GPU available: True (cuda), used: True\n",
      "[INFO][2023-06-28 00:57:14,403] rank_zero.py:_info:48: GPU available: True (cuda), used: True\n",
      "INFO: TPU available: False, using: 0 TPU cores\n",
      "[INFO][2023-06-28 00:57:14,404] rank_zero.py:_info:48: TPU available: False, using: 0 TPU cores\n",
      "INFO: IPU available: False, using: 0 IPUs\n",
      "[INFO][2023-06-28 00:57:14,405] rank_zero.py:_info:48: IPU available: False, using: 0 IPUs\n",
      "INFO: HPU available: False, using: 0 HPUs\n",
      "[INFO][2023-06-28 00:57:14,405] rank_zero.py:_info:48: HPU available: False, using: 0 HPUs\n",
      "[INFO][2023-06-28 00:57:14,609] image_downloader.py:download_exact:62: Downloading 8162 6 0080\n",
      "[INFO][2023-06-28 00:57:32,932] image_downloader.py:download_exact:62: Downloading 8162 6 0080\n",
      "INFO: GPU available: True (cuda), used: True\n",
      "[INFO][2023-06-28 00:57:51,384] rank_zero.py:_info:48: GPU available: True (cuda), used: True\n",
      "INFO: TPU available: False, using: 0 TPU cores\n",
      "[INFO][2023-06-28 00:57:51,385] rank_zero.py:_info:48: TPU available: False, using: 0 TPU cores\n",
      "INFO: IPU available: False, using: 0 IPUs\n",
      "[INFO][2023-06-28 00:57:51,386] rank_zero.py:_info:48: IPU available: False, using: 0 IPUs\n",
      "INFO: HPU available: False, using: 0 HPUs\n",
      "[INFO][2023-06-28 00:57:51,386] rank_zero.py:_info:48: HPU available: False, using: 0 HPUs\n",
      "[INFO][2023-06-28 00:57:51,591] image_downloader.py:download_exact:62: Downloading 8162 6 0080\n",
      "[INFO][2023-06-28 00:58:09,829] image_downloader.py:download_exact:62: Downloading 8162 6 0080\n",
      "INFO: GPU available: True (cuda), used: True\n",
      "[INFO][2023-06-28 00:58:26,780] rank_zero.py:_info:48: GPU available: True (cuda), used: True\n",
      "INFO: TPU available: False, using: 0 TPU cores\n",
      "[INFO][2023-06-28 00:58:26,781] rank_zero.py:_info:48: TPU available: False, using: 0 TPU cores\n",
      "INFO: IPU available: False, using: 0 IPUs\n",
      "[INFO][2023-06-28 00:58:26,782] rank_zero.py:_info:48: IPU available: False, using: 0 IPUs\n",
      "INFO: HPU available: False, using: 0 HPUs\n",
      "[INFO][2023-06-28 00:58:26,782] rank_zero.py:_info:48: HPU available: False, using: 0 HPUs\n",
      "[INFO][2023-06-28 00:58:26,892] image_downloader.py:download:46: Downloading 8162\n"
     ]
    },
    {
     "name": "stdout",
     "output_type": "stream",
     "text": [
      "Run already built. Reusing existing build.\n"
     ]
    },
    {
     "name": "stderr",
     "output_type": "stream",
     "text": [
      "WARNING: Missing logger folder: /home/kubach/project_sync/star_analysis/logs/sdss-project\n",
      "[WARNING][2023-06-28 00:58:46,497] tensorboard.py:_get_next_version:239: Missing logger folder: /home/kubach/project_sync/star_analysis/logs/sdss-project\n"
     ]
    },
    {
     "name": "stdout",
     "output_type": "stream",
     "text": [
      "Found 947 data/label pairs\n",
      "Found 1 data/label pairs\n"
     ]
    },
    {
     "name": "stderr",
     "output_type": "stream",
     "text": [
      "INFO: LOCAL_RANK: 0 - CUDA_VISIBLE_DEVICES: [0]\n",
      "[INFO][2023-06-28 00:58:47,320] cuda.py:set_nvidia_flags:58: LOCAL_RANK: 0 - CUDA_VISIBLE_DEVICES: [0]\n",
      "INFO: \n",
      "  | Name         | Type     | Params\n",
      "------------------------------------------\n",
      "0 | loss_fn      | DiceLoss | 0     \n",
      "1 | architecture | Unet     | 14.3 M\n",
      "------------------------------------------\n",
      "14.3 M    Trainable params\n",
      "0         Non-trainable params\n",
      "14.3 M    Total params\n",
      "57.339    Total estimated model params size (MB)\n",
      "[INFO][2023-06-28 00:58:47,324] model_summary.py:summarize:82: \n",
      "  | Name         | Type     | Params\n",
      "------------------------------------------\n",
      "0 | loss_fn      | DiceLoss | 0     \n",
      "1 | architecture | Unet     | 14.3 M\n",
      "------------------------------------------\n",
      "14.3 M    Trainable params\n",
      "0         Non-trainable params\n",
      "14.3 M    Total params\n",
      "57.339    Total estimated model params size (MB)\n"
     ]
    },
    {
     "data": {
      "application/vnd.jupyter.widget-view+json": {
       "model_id": "",
       "version_major": 2,
       "version_minor": 0
      },
      "text/plain": [
       "Sanity Checking: 0it [00:00, ?it/s]"
      ]
     },
     "metadata": {},
     "output_type": "display_data"
    },
    {
     "data": {
      "application/vnd.jupyter.widget-view+json": {
       "model_id": "f6b3f41414564d68b1584b528f35f0eb",
       "version_major": 2,
       "version_minor": 0
      },
      "text/plain": [
       "Training: 0it [00:00, ?it/s]"
      ]
     },
     "metadata": {},
     "output_type": "display_data"
    },
    {
     "data": {
      "application/vnd.jupyter.widget-view+json": {
       "model_id": "",
       "version_major": 2,
       "version_minor": 0
      },
      "text/plain": [
       "Validation: 0it [00:00, ?it/s]"
      ]
     },
     "metadata": {},
     "output_type": "display_data"
    },
    {
     "data": {
      "application/vnd.jupyter.widget-view+json": {
       "model_id": "1258db8cb9394e278d8680674892c889",
       "version_major": 2,
       "version_minor": 0
      },
      "text/plain": [
       "Validation: 0it [00:00, ?it/s]"
      ]
     },
     "metadata": {},
     "output_type": "display_data"
    }
   ],
   "source": [
    "from star_analysis.runner.runner import TuningModes\n",
    "from star_analysis.runner.run import TrainerConfig\n",
    "\n",
    "results = runner.tune(\n",
    "    mode=TuningModes.ITERATIVE,\n",
    "    runs=runs,\n",
    "    trainer_config=TrainerConfig(\n",
    "        logger=runner.logger,\n",
    "        max_epochs=10,\n",
    "    )\n",
    ")\n",
    "run_results = zip(runs, results)"
   ]
  },
  {
   "cell_type": "code",
   "execution_count": null,
   "metadata": {},
   "outputs": [],
   "source": [
    "results"
   ]
  },
  {
   "cell_type": "code",
   "execution_count": null,
   "metadata": {},
   "outputs": [],
   "source": [
    "best_run, result_best = max(run_results, key=lambda x: x[1]['test_f1'])\n",
    "print(f\"Best run, {best_run[0].name}, achieved {best_run[1]['test_f1']} test_f1\")\n",
    "\n",
    "for i, (run, result) in enumerate(run_results):\n",
    "    print(f\"Run i, {run.name}, achieved {result['test_f1']} test_f1\")\n",
    "\n",
    "runner.save_model(best_run.model)"
   ]
  },
  {
   "cell_type": "code",
   "execution_count": null,
   "metadata": {},
   "outputs": [],
   "source": []
  }
 ],
 "metadata": {
  "kernelspec": {
   "display_name": "star_analysis",
   "language": "python",
   "name": "star_analysis"
  },
  "language_info": {
   "codemirror_mode": {
    "name": "ipython",
    "version": 3
   },
   "file_extension": ".py",
   "mimetype": "text/x-python",
   "name": "python",
   "nbconvert_exporter": "python",
   "pygments_lexer": "ipython3",
   "version": "3.10.6"
  }
 },
 "nbformat": 4,
 "nbformat_minor": 1
}
