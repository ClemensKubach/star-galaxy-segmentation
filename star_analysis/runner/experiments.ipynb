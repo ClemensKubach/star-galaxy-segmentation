{
 "cells": [
  {
   "cell_type": "code",
   "execution_count": null,
   "outputs": [],
   "source": [
    "%load_ext autoreload\n",
    "%autoreload 2\n",
    "%env PYTORCH_ENABLE_MPS_FALLBACK=1"
   ],
   "metadata": {
    "collapsed": false
   }
  },
  {
   "cell_type": "code",
   "execution_count": null,
   "metadata": {
    "collapsed": true
   },
   "outputs": [],
   "source": [
    "from star_analysis.model.types import ModelTypes\n",
    "from star_analysis.runner.sdss_runner import SdssRunner\n",
    "from star_analysis.data.augmentations import Augmentations\n",
    "from star_analysis.runner.sdss_runner import SdssRunConfig, SdssModelConfig\n",
    "from star_analysis.model.neural_networks.losses.types import LossType\n",
    "from star_analysis.runner.run import Run"
   ]
  },
  {
   "cell_type": "code",
   "execution_count": null,
   "outputs": [],
   "source": [
    "runner = SdssRunner()"
   ],
   "metadata": {
    "collapsed": false
   }
  },
  {
   "cell_type": "code",
   "execution_count": null,
   "outputs": [],
   "source": [
    "run = Run(\n",
    "    SdssRunConfig(\n",
    "        model_config=SdssModelConfig(\n",
    "            learning_rate=1e-4,\n",
    "            batch_size=32,\n",
    "            model_type=ModelTypes.UNET,\n",
    "            loss_type=LossType.DICE\n",
    "        ),\n",
    "        augmentation=Augmentations.NONE,\n",
    "        shuffle_train=True\n",
    "    )\n",
    ")\n",
    "runner.add_run(run)"
   ],
   "metadata": {
    "collapsed": false
   }
  },
  {
   "cell_type": "code",
   "execution_count": null,
   "outputs": [],
   "source": [
    "from star_analysis.runner.run import TrainerConfig\n",
    "\n",
    "runner.train(\n",
    "    run=run,\n",
    "    trainer_config=TrainerConfig(\n",
    "        logger=None,\n",
    "        max_epochs=1,\n",
    "    )\n",
    ")\n",
    "#runner.save_model(run)"
   ],
   "metadata": {
    "collapsed": false
   }
  },
  {
   "cell_type": "code",
   "execution_count": null,
   "outputs": [],
   "source": [
    "r = runner.test(run)"
   ],
   "metadata": {
    "collapsed": false
   }
  },
  {
   "cell_type": "code",
   "execution_count": null,
   "outputs": [],
   "source": [
    "r"
   ],
   "metadata": {
    "collapsed": false
   }
  },
  {
   "cell_type": "code",
   "execution_count": null,
   "outputs": [],
   "source": [],
   "metadata": {
    "collapsed": false
   }
  }
 ],
 "metadata": {
  "kernelspec": {
   "display_name": "Python 3",
   "language": "python",
   "name": "python3"
  },
  "language_info": {
   "codemirror_mode": {
    "name": "ipython",
    "version": 2
   },
   "file_extension": ".py",
   "mimetype": "text/x-python",
   "name": "python",
   "nbconvert_exporter": "python",
   "pygments_lexer": "ipython2",
   "version": "2.7.6"
  }
 },
 "nbformat": 4,
 "nbformat_minor": 0
}
