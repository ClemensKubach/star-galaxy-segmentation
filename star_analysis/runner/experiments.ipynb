{
 "cells": [
  {
   "cell_type": "code",
   "execution_count": 1,
   "outputs": [
    {
     "name": "stdout",
     "output_type": "stream",
     "text": [
      "env: PYTORCH_ENABLE_MPS_FALLBACK=1\n"
     ]
    }
   ],
   "source": [
    "%load_ext autoreload\n",
    "%autoreload 2\n",
    "%env PYTORCH_ENABLE_MPS_FALLBACK=1"
   ],
   "metadata": {
    "collapsed": false,
    "ExecuteTime": {
     "end_time": "2023-06-24T06:46:43.647735Z",
     "start_time": "2023-06-24T06:46:43.635500Z"
    }
   }
  },
  {
   "cell_type": "code",
   "execution_count": 2,
   "metadata": {
    "collapsed": true,
    "ExecuteTime": {
     "end_time": "2023-06-24T06:46:46.799574Z",
     "start_time": "2023-06-24T06:46:43.647658Z"
    }
   },
   "outputs": [],
   "source": [
    "from star_analysis.model.types import ModelTypes\n",
    "from star_analysis.runner.sdss_runner import SdssRunner\n",
    "from star_analysis.data.augmentations import Augmentations\n",
    "from star_analysis.runner.sdss_runner import SdssRunConfig, SdssModelConfig\n",
    "from star_analysis.model.neural_networks.losses.types import LossType\n",
    "from star_analysis.runner.run import Run"
   ]
  },
  {
   "cell_type": "code",
   "execution_count": 3,
   "outputs": [],
   "source": [
    "runner = SdssRunner()"
   ],
   "metadata": {
    "collapsed": false,
    "ExecuteTime": {
     "end_time": "2023-06-24T06:46:46.841506Z",
     "start_time": "2023-06-24T06:46:46.800189Z"
    }
   }
  },
  {
   "cell_type": "code",
   "execution_count": 4,
   "outputs": [
    {
     "data": {
      "text/plain": "0"
     },
     "execution_count": 4,
     "metadata": {},
     "output_type": "execute_result"
    }
   ],
   "source": [
    "run = Run(\n",
    "    SdssRunConfig(\n",
    "        model_config=SdssModelConfig(\n",
    "            learning_rate=1e-4,\n",
    "            batch_size=32,\n",
    "            model_type=ModelTypes.UNET,\n",
    "            loss_type=LossType.DICE\n",
    "        ),\n",
    "        augmentation=Augmentations.NONE,\n",
    "        shuffle_train=True\n",
    "    )\n",
    ")\n",
    "runner.add_run(run)"
   ],
   "metadata": {
    "collapsed": false,
    "ExecuteTime": {
     "end_time": "2023-06-24T06:46:46.886423Z",
     "start_time": "2023-06-24T06:46:46.842293Z"
    }
   }
  },
  {
   "cell_type": "code",
   "execution_count": 5,
   "outputs": [
    {
     "name": "stderr",
     "output_type": "stream",
     "text": [
      "[INFO][2023-06-24 08:46:47,151] image_downloader.py:download_exact:62: Downloading 8162 6 0080\n",
      "[INFO][2023-06-24 08:47:04,671] image_downloader.py:download_exact:62: Downloading 8162 6 0080\n",
      "INFO: GPU available: True (mps), used: True\n",
      "[INFO][2023-06-24 08:47:21,435] rank_zero.py:_info:48: GPU available: True (mps), used: True\n",
      "INFO: TPU available: False, using: 0 TPU cores\n",
      "[INFO][2023-06-24 08:47:21,436] rank_zero.py:_info:48: TPU available: False, using: 0 TPU cores\n",
      "INFO: IPU available: False, using: 0 IPUs\n",
      "[INFO][2023-06-24 08:47:21,437] rank_zero.py:_info:48: IPU available: False, using: 0 IPUs\n",
      "INFO: HPU available: False, using: 0 HPUs\n",
      "[INFO][2023-06-24 08:47:21,437] rank_zero.py:_info:48: HPU available: False, using: 0 HPUs\n",
      "[INFO][2023-06-24 08:47:21,520] image_downloader.py:download:46: Downloading 8162\n",
      "INFO: \n",
      "  | Name                               | Type     | Params\n",
      "----------------------------------------------------------------\n",
      "0 | _BaseLightningModule__loss_fn      | DiceLoss | 0     \n",
      "1 | _BaseLightningModule__architecture | Unet     | 14.3 M\n",
      "----------------------------------------------------------------\n",
      "14.3 M    Trainable params\n",
      "0         Non-trainable params\n",
      "14.3 M    Total params\n",
      "57.339    Total estimated model params size (MB)\n",
      "[INFO][2023-06-24 08:47:39,282] model_summary.py:summarize:82: \n",
      "  | Name                               | Type     | Params\n",
      "----------------------------------------------------------------\n",
      "0 | _BaseLightningModule__loss_fn      | DiceLoss | 0     \n",
      "1 | _BaseLightningModule__architecture | Unet     | 14.3 M\n",
      "----------------------------------------------------------------\n",
      "14.3 M    Trainable params\n",
      "0         Non-trainable params\n",
      "14.3 M    Total params\n",
      "57.339    Total estimated model params size (MB)\n"
     ]
    },
    {
     "data": {
      "text/plain": "Sanity Checking: 0it [00:00, ?it/s]",
      "application/vnd.jupyter.widget-view+json": {
       "version_major": 2,
       "version_minor": 0,
       "model_id": "c39430fdefc048c39ec31b4a4284436c"
      }
     },
     "metadata": {},
     "output_type": "display_data"
    },
    {
     "data": {
      "text/plain": "Training: 0it [00:00, ?it/s]",
      "application/vnd.jupyter.widget-view+json": {
       "version_major": 2,
       "version_minor": 0,
       "model_id": "0c4bf3bdee3f42209e1fd514db6a08f7"
      }
     },
     "metadata": {},
     "output_type": "display_data"
    }
   ],
   "source": [
    "runner.train(\n",
    "    run=run,\n",
    "    trainer_config=None\n",
    ")\n",
    "runner.save_model(run)"
   ],
   "metadata": {
    "collapsed": false,
    "ExecuteTime": {
     "end_time": "2023-06-24T06:49:45.592033Z",
     "start_time": "2023-06-24T06:46:46.887197Z"
    }
   }
  },
  {
   "cell_type": "code",
   "execution_count": null,
   "outputs": [],
   "source": [
    "runner.load_model(path=\"/Users/clemens/PycharmProjects/star_analysis/final-models\")\n",
    "runner.train(\n",
    "    limit_train_batches=None,\n",
    "    limit_val_batches=None,\n",
    "    max_epochs=1\n",
    ")\n",
    "runner.save_model()"
   ],
   "metadata": {
    "collapsed": false
   }
  },
  {
   "cell_type": "code",
   "execution_count": null,
   "outputs": [],
   "source": [
    "runner.tune(\n",
    "\n",
    ")"
   ],
   "metadata": {
    "collapsed": false
   }
  }
 ],
 "metadata": {
  "kernelspec": {
   "display_name": "Python 3",
   "language": "python",
   "name": "python3"
  },
  "language_info": {
   "codemirror_mode": {
    "name": "ipython",
    "version": 2
   },
   "file_extension": ".py",
   "mimetype": "text/x-python",
   "name": "python",
   "nbconvert_exporter": "python",
   "pygments_lexer": "ipython2",
   "version": "2.7.6"
  }
 },
 "nbformat": 4,
 "nbformat_minor": 0
}
